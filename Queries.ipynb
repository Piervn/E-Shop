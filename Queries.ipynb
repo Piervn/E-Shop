{
    "metadata": {
        "kernelspec": {
            "name": "SQL",
            "display_name": "SQL",
            "language": "sql"
        },
        "language_info": {
            "name": "sql",
            "version": ""
        }
    },
    "nbformat_minor": 2,
    "nbformat": 4,
    "cells": [
        {
            "cell_type": "code",
            "source": [
                "SELECT * FROM Product"
            ],
            "metadata": {
                "azdata_cell_guid": "a57e1bba-3461-4eae-b698-73f92ab08898",
                "language": "sql"
            },
            "outputs": [
                {
                    "output_type": "display_data",
                    "data": {
                        "text/html": "(4 rows affected)"
                    },
                    "metadata": {}
                },
                {
                    "output_type": "display_data",
                    "data": {
                        "text/html": "Total execution time: 00:00:00.037"
                    },
                    "metadata": {}
                },
                {
                    "output_type": "execute_result",
                    "metadata": {},
                    "execution_count": 5,
                    "data": {
                        "application/vnd.dataresource+json": {
                            "schema": {
                                "fields": [
                                    {
                                        "name": "id"
                                    },
                                    {
                                        "name": "name"
                                    },
                                    {
                                        "name": "description"
                                    },
                                    {
                                        "name": "specification"
                                    },
                                    {
                                        "name": "category"
                                    },
                                    {
                                        "name": "price"
                                    },
                                    {
                                        "name": "review"
                                    },
                                    {
                                        "name": "quantity"
                                    },
                                    {
                                        "name": "image"
                                    }
                                ]
                            },
                            "data": [
                                {
                                    "id": "7e545803-9938-4376-b39b-16efcd9e9b93",
                                    "name": "Product 4",
                                    "description": "Description 4",
                                    "specification": "Specification 4",
                                    "category": "Category 3",
                                    "price": "24.99",
                                    "review": "4.0",
                                    "quantity": "120",
                                    "image": "https://cdn.x-kom.pl/i/setup/images/prod/big/product-medium,,2020/4/pr_2020_4_27_11_53_35_124_00.jpg"
                                },
                                {
                                    "id": "7df0020d-cd36-4686-9bb8-53e543aadc6b",
                                    "name": "Product 1",
                                    "description": "Description 1",
                                    "specification": "Specification 1",
                                    "category": "Category 1",
                                    "price": "10.99",
                                    "review": "4.5",
                                    "quantity": "100",
                                    "image": "https://cdn.x-kom.pl/i/setup/images/prod/big/product-medium,,2022/11/pr_2022_11_24_15_53_35_788_04.jpg"
                                },
                                {
                                    "id": "1cc59ac0-088d-4cc1-8b21-72465147f5cb",
                                    "name": "Product 3",
                                    "description": "Description 3",
                                    "specification": "Specification 3",
                                    "category": "Category 1",
                                    "price": "8.49",
                                    "review": "4.2",
                                    "quantity": "75",
                                    "image": "https://cdn.x-kom.pl/i/setup/images/prod/big/product-medium,,2020/4/pr_2020_4_27_11_53_35_124_00.jpg"
                                },
                                {
                                    "id": "66542d10-0158-42c4-937a-a10df705f152",
                                    "name": "Product 2",
                                    "description": "Description 2",
                                    "specification": "Specification 2",
                                    "category": "Category 2",
                                    "price": "19.99",
                                    "review": "3.8",
                                    "quantity": "50",
                                    "image": "https://cdn.x-kom.pl/i/setup/images/prod/big/product-medium,,2020/4/pr_2020_4_27_11_53_35_124_00.jpg"
                                }
                            ]
                        },
                        "text/html": [
                            "<table>",
                            "<tr><th>id</th><th>name</th><th>description</th><th>specification</th><th>category</th><th>price</th><th>review</th><th>quantity</th><th>image</th></tr>",
                            "<tr><td>7e545803-9938-4376-b39b-16efcd9e9b93</td><td>Product 4</td><td>Description 4</td><td>Specification 4</td><td>Category 3</td><td>24.99</td><td>4.0</td><td>120</td><td>https://cdn.x-kom.pl/i/setup/images/prod/big/product-medium,,2020/4/pr_2020_4_27_11_53_35_124_00.jpg</td></tr>",
                            "<tr><td>7df0020d-cd36-4686-9bb8-53e543aadc6b</td><td>Product 1</td><td>Description 1</td><td>Specification 1</td><td>Category 1</td><td>10.99</td><td>4.5</td><td>100</td><td>https://cdn.x-kom.pl/i/setup/images/prod/big/product-medium,,2022/11/pr_2022_11_24_15_53_35_788_04.jpg</td></tr>",
                            "<tr><td>1cc59ac0-088d-4cc1-8b21-72465147f5cb</td><td>Product 3</td><td>Description 3</td><td>Specification 3</td><td>Category 1</td><td>8.49</td><td>4.2</td><td>75</td><td>https://cdn.x-kom.pl/i/setup/images/prod/big/product-medium,,2020/4/pr_2020_4_27_11_53_35_124_00.jpg</td></tr>",
                            "<tr><td>66542d10-0158-42c4-937a-a10df705f152</td><td>Product 2</td><td>Description 2</td><td>Specification 2</td><td>Category 2</td><td>19.99</td><td>3.8</td><td>50</td><td>https://cdn.x-kom.pl/i/setup/images/prod/big/product-medium,,2020/4/pr_2020_4_27_11_53_35_124_00.jpg</td></tr>",
                            "</table>"
                        ]
                    }
                }
            ],
            "execution_count": 5
        },
        {
            "cell_type": "code",
            "source": [
                "TRUNCATE TABLE Product"
            ],
            "metadata": {
                "azdata_cell_guid": "ae74483d-6c3c-4113-8bbe-b932f99ef4a4",
                "language": "sql"
            },
            "outputs": [
                {
                    "output_type": "display_data",
                    "data": {
                        "text/html": "Commands completed successfully."
                    },
                    "metadata": {}
                },
                {
                    "output_type": "display_data",
                    "data": {
                        "text/html": "Total execution time: 00:00:00.072"
                    },
                    "metadata": {}
                }
            ],
            "execution_count": 18
        },
        {
            "cell_type": "code",
            "source": [
                "INSERT INTO Product (id, name, description, specification, category, price, review, quantity, image)\r\n",
                "VALUES\r\n",
                "    (NEWID(), 'Product 1', 'Description 1', 'Specification 1', 'Category 1', 10.99, 4.5, 100, 'https://cdn.x-kom.pl/i/setup/images/prod/big/product-medium,,2022/11/pr_2022_11_24_15_53_35_788_04.jpg'),\r\n",
                "    (NEWID(), 'Product 2', 'Description 2', 'Specification 2', 'Category 2', 19.99, 3.8, 50, 'https://cdn.x-kom.pl/i/setup/images/prod/big/product-medium,,2020/4/pr_2020_4_27_11_53_35_124_00.jpg'),\r\n",
                "    (NEWID(), 'Product 3', 'Description 3', 'Specification 3', 'Category 1', 8.49, 4.2, 75, 'https://cdn.x-kom.pl/i/setup/images/prod/big/product-medium,,2020/4/pr_2020_4_27_11_53_35_124_00.jpg'),\r\n",
                "    (NEWID(), 'Product 4', 'Description 4', 'Specification 4', 'Category 3', 24.99, 4.0, 120, 'https://cdn.x-kom.pl/i/setup/images/prod/big/product-medium,,2020/4/pr_2020_4_27_11_53_35_124_00.jpg');"
            ],
            "metadata": {
                "azdata_cell_guid": "15ba7327-56a8-49b5-a085-7f85899c6c1b",
                "language": "sql"
            },
            "outputs": [
                {
                    "output_type": "display_data",
                    "data": {
                        "text/html": "(4 rows affected)"
                    },
                    "metadata": {}
                },
                {
                    "output_type": "display_data",
                    "data": {
                        "text/html": "Total execution time: 00:00:00.039"
                    },
                    "metadata": {}
                }
            ],
            "execution_count": 19
        },
        {
            "cell_type": "code",
            "source": [
                "DROP TABLE Product"
            ],
            "metadata": {
                "azdata_cell_guid": "ca329077-aeeb-496a-a826-e6522747f7cf",
                "language": "sql"
            },
            "outputs": [
                {
                    "output_type": "display_data",
                    "data": {
                        "text/html": "Commands completed successfully."
                    },
                    "metadata": {}
                },
                {
                    "output_type": "display_data",
                    "data": {
                        "text/html": "Total execution time: 00:00:00.352"
                    },
                    "metadata": {}
                }
            ],
            "execution_count": 20
        }
    ]
}